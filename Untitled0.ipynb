{
  "nbformat": 4,
  "nbformat_minor": 0,
  "metadata": {
    "colab": {
      "name": "Untitled0.ipynb",
      "provenance": [],
      "collapsed_sections": []
    },
    "kernelspec": {
      "name": "python3",
      "display_name": "Python 3"
    },
    "language_info": {
      "name": "python"
    }
  },
  "cells": [
    {
      "cell_type": "code",
      "metadata": {
        "id": "zbQutkVywjHp"
      },
      "source": [
        "import numpy as np\n",
        "import matplotlib.pyplot as plt\n",
        "\n",
        "# grid = np.ones((8,8,3))\n",
        "# def render():\n",
        "#     plt.imshow(grid)\n",
        "# # black_grid = (0,0,0)\n",
        "\n",
        "# # for j in range (0,7,2):\n",
        "# #   for i in range(0, 8, 2):\n",
        "# #     grid[j][i] = black_grid\n",
        "\n",
        "# # for j in range (1,8,2):\n",
        "# #   for i in range(1, 8, 2):\n",
        "# #     grid[j][i] = black_grid\n",
        "# # render()\n",
        "# # grid[4][2] = (1,0,0)\n",
        "# render()\n"
      ],
      "execution_count": 72,
      "outputs": []
    },
    {
      "cell_type": "code",
      "metadata": {
        "id": "SGgXVn3y3Cv9"
      },
      "source": [
        " class ChessBoard:\n",
        "    def __init__(self):\n",
        "        #starting with white background\n",
        "        self.grid = np.ones((8,8,3))\n",
        "        black_grid = (0,0,0)\n",
        "        #for row that starts with black\n",
        "        for j in range (0,7,2):\n",
        "          for i in range(0, 8, 2):\n",
        "            self.grid[j][i] = black_grid\n",
        "        #for row that starts with white\n",
        "        for j in range (1,8,2):\n",
        "          for i in range(1, 8, 2):\n",
        "            self.grid[j][i] = black_grid\n",
        "        self.red_row = None\n",
        "        self.red_column = None\n",
        "        self.blue_row = None\n",
        "        self.blue_column = None\n",
        "\n",
        "    def add_red(self, row, col):\n",
        "        self.red_row = row\n",
        "        self.red_column = col\n",
        "        self.grid[row][col] = (1,0,0)\n",
        "\n",
        "    def add_blue(self, row, col):\n",
        "        self.blue_row = row\n",
        "        self.blue_column = col\n",
        "        self.grid[row][col] = (0,0,1)\n",
        "\n",
        "    def render(self):\n",
        "      plt.imshow(self.grid)\n",
        "\n",
        "    def is_under_attack(self):\n",
        "        if self.blue_row == self.red_row or self.blue_column == self.red_column:\n",
        "            return True\n",
        "\n",
        "        if abs(self.red_column - self.blue_column) == abs(self.red_row - self.blue_row):\n",
        "            return True\n",
        "        \n",
        "        return False"
      ],
      "execution_count": 73,
      "outputs": []
    },
    {
      "cell_type": "code",
      "metadata": {
        "colab": {
          "base_uri": "https://localhost:8080/",
          "height": 282
        },
        "id": "c6BNOJH5Rzaj",
        "outputId": "9aa35a63-1909-4911-81dd-b0ee7dc07ff1"
      },
      "source": [
        "\n",
        "board1 = ChessBoard()\n",
        "board1.add_red(3,0)\n",
        "board1.add_blue(3,7)\n",
        "board1.render()\n",
        "print(board1.is_under_attack())"
      ],
      "execution_count": 78,
      "outputs": [
        {
          "output_type": "stream",
          "text": [
            "True\n"
          ],
          "name": "stdout"
        },
        {
          "output_type": "display_data",
          "data": {
            "image/png": "[encoded data removed]",
            "text/plain": [
              "<Figure size 432x288 with 1 Axes>"
            ]
          },
          "metadata": {
            "tags": [],
            "needs_background": "light"
          }
        }
      ]
    },
    {
      "cell_type": "code",
      "metadata": {
        "colab": {
          "base_uri": "https://localhost:8080/"
        },
        "id": "kln-8w0mTsHy",
        "outputId": "f9594022-544b-4062-f455-395e67bdfade"
      },
      "source": [
        "\n",
        "# queens with any other coordinates should NOT be “under attack”\n",
        "board1.add_red(4,2)\n",
        "board1.add_blue(7,4)\n",
        "assert not board1.is_under_attack()\n",
        "print('********* NOT UNDER ATTACK ********')\n"
      ],
      "execution_count": 80,
      "outputs": [
        {
          "output_type": "stream",
          "text": [
            "********* NOT UNDER ATTACK ********\n"
          ],
          "name": "stdout"
        }
      ]
    },
    {
      "cell_type": "code",
      "metadata": {
        "colab": {
          "base_uri": "https://localhost:8080/"
        },
        "id": "U_Qg8K0kXKsY",
        "outputId": "64e9aaed-eb5e-42cc-aa1a-51c833afe9bd"
      },
      "source": [
        "# queens with any other coordinates should NOT be “under attack”\n",
        "board1.add_red(3,0)\n",
        "board1.add_blue(3,7)\n",
        "assert board1.is_under_attack()\n",
        "print('********* UNDER ATTACK ********')"
      ],
      "execution_count": 81,
      "outputs": [
        {
          "output_type": "stream",
          "text": [
            "********* UNDER ATTACK ********\n"
          ],
          "name": "stdout"
        }
      ]
    }
  ]
}